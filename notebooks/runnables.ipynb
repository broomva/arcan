{
 "cells": [
  {
   "cell_type": "code",
   "execution_count": 7,
   "metadata": {},
   "outputs": [],
   "source": [
    "from arcan.ai.runnables import ArcanRunnables\n",
    "\n",
    "arcan_runnables = ArcanRunnables(base_url=\"http://localhost:8000/\")"
   ]
  },
  {
   "cell_type": "code",
   "execution_count": 8,
   "metadata": {},
   "outputs": [],
   "source": [
    "# spells_runnable = arcan_runnables.get_spells_runnable()\n",
    "# # spells_runnable.invoke({'input': 'hi'})"
   ]
  },
  {
   "cell_type": "code",
   "execution_count": 9,
   "metadata": {},
   "outputs": [
    {
     "data": {
      "text/plain": [
       "[{'openai': AIMessage(content='Parrots are known for their ability to mimic human speech and other sounds, making them popular pets and performers in the entertainment industry.', response_metadata={'token_usage': {'completion_tokens': 26, 'prompt_tokens': 17, 'total_tokens': 43}, 'model_name': 'gpt-3.5-turbo-0125', 'system_fingerprint': None, 'finish_reason': 'stop', 'logprobs': None}, id='run-343e4c80-525f-4e46-94bc-6a65b5a04bf5-0'),\n",
       "  'groq': AIMessage(content=\"Here's something quick and interesting about parrots:\\n\\nDid you know that parrots have the ability to mimic human speech and other sounds, but they also have a unique way of communicating with each other? In fact, some parrot species have over 1,000 different vocalizations in their vocabulary! They use these calls to convey information about food sources, predators, and even social relationships. Some parrots are so clever that they've even been known to learn and mimic complex phrases, songs, and even car alarms!\", response_metadata={'token_usage': {'completion_time': 0.118, 'completion_tokens': 104, 'prompt_time': 0.055, 'prompt_tokens': 26, 'queue_time': None, 'total_time': 0.173, 'total_tokens': 130}, 'model_name': 'llama3-8b-8192', 'system_fingerprint': 'fp_af05557ca2', 'finish_reason': 'stop', 'logprobs': None}, id='run-359fd7aa-89e6-462e-8b0d-5015a36a8101-0')},\n",
       " {'openai': AIMessage(content='Cats have a unique grooming behavior called \"allogrooming,\" where they will groom other cats as a form of social bonding and to maintain their relationships within their social groups.', response_metadata={'token_usage': {'completion_tokens': 36, 'prompt_tokens': 16, 'total_tokens': 52}, 'model_name': 'gpt-3.5-turbo-0125', 'system_fingerprint': None, 'finish_reason': 'stop', 'logprobs': None}, id='run-1fe5ec34-5d6c-465d-a703-2edcdde68cbb-0'),\n",
       "  'groq': AIMessage(content=\"Here's something quick and interesting about cats:\\n\\nCats have a special talent for recognizing and remembering the sound of their owner's voice! In fact, studies have shown that cats can distinguish their owner's voice from others, even when the voice is muffled or distorted. They can also recognize the tone and pitch of their owner's voice, which helps them associate the voice with their owner's presence and identity.\", response_metadata={'token_usage': {'completion_time': 0.101, 'completion_tokens': 82, 'prompt_time': 0.007, 'prompt_tokens': 25, 'queue_time': None, 'total_time': 0.10800000000000001, 'total_tokens': 107}, 'model_name': 'llama3-8b-8192', 'system_fingerprint': 'fp_a97cfe35ae', 'finish_reason': 'stop', 'logprobs': None}, id='run-efad838d-d8e7-437b-8294-8bde7d7c9ab2-0')}]"
      ]
     },
     "execution_count": 9,
     "metadata": {},
     "output_type": "execute_result"
    }
   ],
   "source": [
    "\n",
    "from langchain.prompts import ChatPromptTemplate\n",
    "from langchain.schema import HumanMessage, SystemMessage\n",
    "from langchain.schema.runnable import RunnableMap\n",
    "\n",
    "openai_runnable = arcan_runnables.get_openai_runnable()\n",
    "groq_runnable = arcan_runnables.get_groq_runnable()\n",
    "\n",
    "prompt = ChatPromptTemplate.from_messages(\n",
    "    [(\"system\", \"Tell soemthing quick and interesting about {topic}\")]\n",
    ")\n",
    "\n",
    "# Can define custom chains\n",
    "chain = prompt | RunnableMap({\n",
    "    \"openai\": openai_runnable,\n",
    "    \"groq\": groq_runnable,\n",
    "})\n",
    "chain.batch([{\"topic\": \"parrots\"}, {\"topic\": \"cats\"}])"
   ]
  },
  {
   "cell_type": "code",
   "execution_count": null,
   "metadata": {},
   "outputs": [],
   "source": [
    "# ollama_runnable = arcan_runnables.get_ollama_runnable()\n",
    "# ollama_runnable.invoke('hi')"
   ]
  },
  {
   "cell_type": "markdown",
   "metadata": {},
   "source": []
  },
  {
   "cell_type": "code",
   "execution_count": 20,
   "metadata": {},
   "outputs": [
    {
     "data": {
      "text/plain": [
       "{'output': 'Hello Carlos! How can I assist you today?'}"
      ]
     },
     "execution_count": 20,
     "metadata": {},
     "output_type": "execute_result"
    }
   ],
   "source": [
    "from langserve import RemoteRunnable\n",
    "\n",
    "spells_runnable = RemoteRunnable(\"http://localhost:8000/spells/\", headers={\"Authorization\": \"Bearer 1234\", \"user_id\": \"123\"})\n",
    "response = spells_runnable.invoke({\"input\": \"my name is carlos\"},)\n",
    "response"
   ]
  },
  {
   "cell_type": "code",
   "execution_count": null,
   "metadata": {},
   "outputs": [],
   "source": []
  }
 ],
 "metadata": {
  "kernelspec": {
   "display_name": "arcan",
   "language": "python",
   "name": "python3"
  },
  "language_info": {
   "codemirror_mode": {
    "name": "ipython",
    "version": 3
   },
   "file_extension": ".py",
   "mimetype": "text/x-python",
   "name": "python",
   "nbconvert_exporter": "python",
   "pygments_lexer": "ipython3",
   "version": "3.11.9"
  }
 },
 "nbformat": 4,
 "nbformat_minor": 2
}
